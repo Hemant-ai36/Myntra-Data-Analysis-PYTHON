{
 "cells": [
  {
   "cell_type": "markdown",
   "metadata": {},
   "source": [
    "# DATA ANALYSIS PYTHON PROJECT - MYNTRA ANALYSIS"
   ]
  },
  {
   "cell_type": "markdown",
   "metadata": {},
   "source": [
    "# Import Libraries"
   ]
  },
  {
   "cell_type": "code",
   "execution_count": 1,
   "metadata": {
    "id": "fV32--LeKaxy"
   },
   "outputs": [],
   "source": [
    "import pandas as pd #data manipulation\n",
    "import numpy as np #calculations\n",
    "import matplotlib.pyplot as plt #basic visualizations\n",
    "import seaborn as sns #adv visualization"
   ]
  },
  {
   "cell_type": "markdown",
   "metadata": {},
   "source": [
    "### Import Row Data"
   ]
  },
  {
   "cell_type": "code",
   "execution_count": 2,
   "metadata": {
    "colab": {
     "base_uri": "https://localhost:8080/",
     "height": 424
    },
    "id": "Eow5dgQrLeFm",
    "outputId": "2189b4a9-2ffb-42df-82a1-194164ef4572"
   },
   "outputs": [
    {
     "data": {
      "text/html": [
       "<div>\n",
       "<style scoped>\n",
       "    .dataframe tbody tr th:only-of-type {\n",
       "        vertical-align: middle;\n",
       "    }\n",
       "\n",
       "    .dataframe tbody tr th {\n",
       "        vertical-align: top;\n",
       "    }\n",
       "\n",
       "    .dataframe thead th {\n",
       "        text-align: right;\n",
       "    }\n",
       "</style>\n",
       "<table border=\"1\" class=\"dataframe\">\n",
       "  <thead>\n",
       "    <tr style=\"text-align: right;\">\n",
       "      <th></th>\n",
       "      <th>Product ID</th>\n",
       "      <th>Category</th>\n",
       "      <th>Sub-category</th>\n",
       "      <th>Product Name</th>\n",
       "      <th>Brand Name</th>\n",
       "      <th>Size</th>\n",
       "      <th>Color</th>\n",
       "      <th>Ratings</th>\n",
       "    </tr>\n",
       "  </thead>\n",
       "  <tbody>\n",
       "    <tr>\n",
       "      <th>0</th>\n",
       "      <td>P0001</td>\n",
       "      <td>Women</td>\n",
       "      <td>Topwear</td>\n",
       "      <td>T-Shirts</td>\n",
       "      <td>Roadster</td>\n",
       "      <td>40</td>\n",
       "      <td>Black</td>\n",
       "      <td>4</td>\n",
       "    </tr>\n",
       "    <tr>\n",
       "      <th>1</th>\n",
       "      <td>P0002</td>\n",
       "      <td>Women</td>\n",
       "      <td>Topwear</td>\n",
       "      <td>T-Shirts</td>\n",
       "      <td>Roadster</td>\n",
       "      <td>40</td>\n",
       "      <td>Blue</td>\n",
       "      <td>5</td>\n",
       "    </tr>\n",
       "    <tr>\n",
       "      <th>2</th>\n",
       "      <td>P0003</td>\n",
       "      <td>Women</td>\n",
       "      <td>Topwear</td>\n",
       "      <td>T-Shirts</td>\n",
       "      <td>Roadster</td>\n",
       "      <td>42</td>\n",
       "      <td>White</td>\n",
       "      <td>3</td>\n",
       "    </tr>\n",
       "    <tr>\n",
       "      <th>3</th>\n",
       "      <td>P0004</td>\n",
       "      <td>Women</td>\n",
       "      <td>Topwear</td>\n",
       "      <td>T-Shirts</td>\n",
       "      <td>Roadster</td>\n",
       "      <td>44</td>\n",
       "      <td>Green</td>\n",
       "      <td>2</td>\n",
       "    </tr>\n",
       "    <tr>\n",
       "      <th>4</th>\n",
       "      <td>P0005</td>\n",
       "      <td>Women</td>\n",
       "      <td>Topwear</td>\n",
       "      <td>T-Shirts</td>\n",
       "      <td>Puma</td>\n",
       "      <td>38</td>\n",
       "      <td>Olive</td>\n",
       "      <td>5</td>\n",
       "    </tr>\n",
       "  </tbody>\n",
       "</table>\n",
       "</div>"
      ],
      "text/plain": [
       "  Product ID Category Sub-category Product Name Brand Name Size  Color  \\\n",
       "0      P0001    Women      Topwear     T-Shirts   Roadster   40  Black   \n",
       "1      P0002    Women      Topwear     T-Shirts   Roadster   40   Blue   \n",
       "2      P0003    Women      Topwear     T-Shirts   Roadster   42  White   \n",
       "3      P0004    Women      Topwear     T-Shirts   Roadster   44  Green   \n",
       "4      P0005    Women      Topwear     T-Shirts       Puma   38  Olive   \n",
       "\n",
       "   Ratings  \n",
       "0        4  \n",
       "1        5  \n",
       "2        3  \n",
       "3        2  \n",
       "4        5  "
      ]
     },
     "execution_count": 2,
     "metadata": {},
     "output_type": "execute_result"
    }
   ],
   "source": [
    "products = pd.read_excel(\"C:/Datasets/Myntra dataset.xlsx\", sheet_name=\"dim_products\")\n",
    "products.head()"
   ]
  },
  {
   "cell_type": "code",
   "execution_count": 3,
   "metadata": {
    "colab": {
     "base_uri": "https://localhost:8080/",
     "height": 424
    },
    "id": "mqAPc96yMQlv",
    "outputId": "30ac4f55-a273-480a-bffe-c98b99bb6178"
   },
   "outputs": [
    {
     "data": {
      "text/html": [
       "<div>\n",
       "<style scoped>\n",
       "    .dataframe tbody tr th:only-of-type {\n",
       "        vertical-align: middle;\n",
       "    }\n",
       "\n",
       "    .dataframe tbody tr th {\n",
       "        vertical-align: top;\n",
       "    }\n",
       "\n",
       "    .dataframe thead th {\n",
       "        text-align: right;\n",
       "    }\n",
       "</style>\n",
       "<table border=\"1\" class=\"dataframe\">\n",
       "  <thead>\n",
       "    <tr style=\"text-align: right;\">\n",
       "      <th></th>\n",
       "      <th>Customer ID</th>\n",
       "      <th>Customer Age</th>\n",
       "      <th>City</th>\n",
       "      <th>State</th>\n",
       "    </tr>\n",
       "  </thead>\n",
       "  <tbody>\n",
       "    <tr>\n",
       "      <th>0</th>\n",
       "      <td>C001</td>\n",
       "      <td>30</td>\n",
       "      <td>Mumbai</td>\n",
       "      <td>Maharashtra</td>\n",
       "    </tr>\n",
       "    <tr>\n",
       "      <th>1</th>\n",
       "      <td>C002</td>\n",
       "      <td>35</td>\n",
       "      <td>Mumbai</td>\n",
       "      <td>Maharashtra</td>\n",
       "    </tr>\n",
       "    <tr>\n",
       "      <th>2</th>\n",
       "      <td>C003</td>\n",
       "      <td>36</td>\n",
       "      <td>Mumbai</td>\n",
       "      <td>Maharashtra</td>\n",
       "    </tr>\n",
       "    <tr>\n",
       "      <th>3</th>\n",
       "      <td>C004</td>\n",
       "      <td>40</td>\n",
       "      <td>Pune</td>\n",
       "      <td>Maharashtra</td>\n",
       "    </tr>\n",
       "    <tr>\n",
       "      <th>4</th>\n",
       "      <td>C005</td>\n",
       "      <td>25</td>\n",
       "      <td>Pune</td>\n",
       "      <td>Maharashtra</td>\n",
       "    </tr>\n",
       "  </tbody>\n",
       "</table>\n",
       "</div>"
      ],
      "text/plain": [
       "  Customer ID  Customer Age    City        State\n",
       "0        C001            30  Mumbai  Maharashtra\n",
       "1        C002            35  Mumbai  Maharashtra\n",
       "2        C003            36  Mumbai  Maharashtra\n",
       "3        C004            40    Pune  Maharashtra\n",
       "4        C005            25    Pune  Maharashtra"
      ]
     },
     "execution_count": 3,
     "metadata": {},
     "output_type": "execute_result"
    }
   ],
   "source": [
    "customers = pd.read_excel(\"C:/Datasets/Myntra dataset.xlsx\", sheet_name=\"dim_customers\")\n",
    "customers.head()"
   ]
  },
  {
   "cell_type": "code",
   "execution_count": 4,
   "metadata": {
    "colab": {
     "base_uri": "https://localhost:8080/",
     "height": 424
    },
    "id": "gQioZ9jHMazK",
    "outputId": "59a1cdcd-89da-4ef2-c204-4fef97688536"
   },
   "outputs": [
    {
     "data": {
      "text/html": [
       "<div>\n",
       "<style scoped>\n",
       "    .dataframe tbody tr th:only-of-type {\n",
       "        vertical-align: middle;\n",
       "    }\n",
       "\n",
       "    .dataframe tbody tr th {\n",
       "        vertical-align: top;\n",
       "    }\n",
       "\n",
       "    .dataframe thead th {\n",
       "        text-align: right;\n",
       "    }\n",
       "</style>\n",
       "<table border=\"1\" class=\"dataframe\">\n",
       "  <thead>\n",
       "    <tr style=\"text-align: right;\">\n",
       "      <th></th>\n",
       "      <th>Order ID</th>\n",
       "      <th>Customer ID</th>\n",
       "      <th>Product ID</th>\n",
       "      <th>Date</th>\n",
       "      <th>Original Price</th>\n",
       "      <th>Discount%</th>\n",
       "    </tr>\n",
       "  </thead>\n",
       "  <tbody>\n",
       "    <tr>\n",
       "      <th>0</th>\n",
       "      <td>OD0001</td>\n",
       "      <td>C001</td>\n",
       "      <td>P0001</td>\n",
       "      <td>2021-05-20</td>\n",
       "      <td>349</td>\n",
       "      <td>0.30</td>\n",
       "    </tr>\n",
       "    <tr>\n",
       "      <th>1</th>\n",
       "      <td>OD0002</td>\n",
       "      <td>C002</td>\n",
       "      <td>P0001</td>\n",
       "      <td>2021-01-19</td>\n",
       "      <td>350</td>\n",
       "      <td>0.30</td>\n",
       "    </tr>\n",
       "    <tr>\n",
       "      <th>2</th>\n",
       "      <td>OD0003</td>\n",
       "      <td>C003</td>\n",
       "      <td>P0001</td>\n",
       "      <td>2021-10-28</td>\n",
       "      <td>351</td>\n",
       "      <td>0.30</td>\n",
       "    </tr>\n",
       "    <tr>\n",
       "      <th>3</th>\n",
       "      <td>OD0004</td>\n",
       "      <td>C004</td>\n",
       "      <td>P0001</td>\n",
       "      <td>2021-05-20</td>\n",
       "      <td>352</td>\n",
       "      <td>0.25</td>\n",
       "    </tr>\n",
       "    <tr>\n",
       "      <th>4</th>\n",
       "      <td>OD0005</td>\n",
       "      <td>C005</td>\n",
       "      <td>P0001</td>\n",
       "      <td>2022-11-08</td>\n",
       "      <td>353</td>\n",
       "      <td>0.25</td>\n",
       "    </tr>\n",
       "  </tbody>\n",
       "</table>\n",
       "</div>"
      ],
      "text/plain": [
       "  Order ID Customer ID Product ID       Date  Original Price  Discount%\n",
       "0   OD0001        C001      P0001 2021-05-20             349       0.30\n",
       "1   OD0002        C002      P0001 2021-01-19             350       0.30\n",
       "2   OD0003        C003      P0001 2021-10-28             351       0.30\n",
       "3   OD0004        C004      P0001 2021-05-20             352       0.25\n",
       "4   OD0005        C005      P0001 2022-11-08             353       0.25"
      ]
     },
     "execution_count": 4,
     "metadata": {},
     "output_type": "execute_result"
    }
   ],
   "source": [
    "orders = pd.read_excel(\"C:/Datasets/Myntra dataset.xlsx\", sheet_name=\"fact_orders\")\n",
    "orders.head()"
   ]
  },
  {
   "cell_type": "code",
   "execution_count": 5,
   "metadata": {
    "colab": {
     "base_uri": "https://localhost:8080/"
    },
    "id": "juBBCbGlMofo",
    "outputId": "88888fca-738e-402c-f172-5632e6fb5654"
   },
   "outputs": [
    {
     "name": "stdout",
     "output_type": "stream",
     "text": [
      "<class 'pandas.core.frame.DataFrame'>\n",
      "RangeIndex: 3071 entries, 0 to 3070\n",
      "Data columns (total 8 columns):\n",
      " #   Column        Non-Null Count  Dtype \n",
      "---  ------        --------------  ----- \n",
      " 0   Product ID    3071 non-null   object\n",
      " 1   Category      3071 non-null   object\n",
      " 2   Sub-category  3071 non-null   object\n",
      " 3   Product Name  3071 non-null   object\n",
      " 4   Brand Name    3071 non-null   object\n",
      " 5   Size          3071 non-null   object\n",
      " 6   Color         3071 non-null   object\n",
      " 7   Ratings       3071 non-null   int64 \n",
      "dtypes: int64(1), object(7)\n",
      "memory usage: 192.1+ KB\n"
     ]
    }
   ],
   "source": [
    "products.info()"
   ]
  },
  {
   "cell_type": "code",
   "execution_count": 6,
   "metadata": {
    "colab": {
     "base_uri": "https://localhost:8080/"
    },
    "id": "g5WoEkgzM7GO",
    "outputId": "e3143a6a-deed-4b3c-f4c0-83f52fb9b649"
   },
   "outputs": [
    {
     "name": "stdout",
     "output_type": "stream",
     "text": [
      "<class 'pandas.core.frame.DataFrame'>\n",
      "RangeIndex: 100 entries, 0 to 99\n",
      "Data columns (total 4 columns):\n",
      " #   Column        Non-Null Count  Dtype \n",
      "---  ------        --------------  ----- \n",
      " 0   Customer ID   100 non-null    object\n",
      " 1   Customer Age  100 non-null    int64 \n",
      " 2   City          100 non-null    object\n",
      " 3   State         100 non-null    object\n",
      "dtypes: int64(1), object(3)\n",
      "memory usage: 3.3+ KB\n"
     ]
    }
   ],
   "source": [
    "customers.info()"
   ]
  },
  {
   "cell_type": "code",
   "execution_count": 7,
   "metadata": {
    "colab": {
     "base_uri": "https://localhost:8080/"
    },
    "id": "Xxpu2_6CNXry",
    "outputId": "e34892db-f5ff-4278-cbd0-7e41c3a2cc2f"
   },
   "outputs": [
    {
     "name": "stdout",
     "output_type": "stream",
     "text": [
      "<class 'pandas.core.frame.DataFrame'>\n",
      "RangeIndex: 3500 entries, 0 to 3499\n",
      "Data columns (total 6 columns):\n",
      " #   Column          Non-Null Count  Dtype         \n",
      "---  ------          --------------  -----         \n",
      " 0   Order ID        3500 non-null   object        \n",
      " 1   Customer ID     3500 non-null   object        \n",
      " 2   Product ID      3500 non-null   object        \n",
      " 3   Date            3500 non-null   datetime64[ns]\n",
      " 4   Original Price  3500 non-null   int64         \n",
      " 5   Discount%       3500 non-null   float64       \n",
      "dtypes: datetime64[ns](1), float64(1), int64(1), object(3)\n",
      "memory usage: 164.2+ KB\n"
     ]
    }
   ],
   "source": [
    "orders.info()"
   ]
  },
  {
   "cell_type": "code",
   "execution_count": 8,
   "metadata": {
    "colab": {
     "base_uri": "https://localhost:8080/",
     "height": 300
    },
    "id": "w3AEDgXINa3K",
    "outputId": "93050ca4-89b9-4b4b-e489-fec018940c27"
   },
   "outputs": [
    {
     "data": {
      "text/html": [
       "<div>\n",
       "<style scoped>\n",
       "    .dataframe tbody tr th:only-of-type {\n",
       "        vertical-align: middle;\n",
       "    }\n",
       "\n",
       "    .dataframe tbody tr th {\n",
       "        vertical-align: top;\n",
       "    }\n",
       "\n",
       "    .dataframe thead th {\n",
       "        text-align: right;\n",
       "    }\n",
       "</style>\n",
       "<table border=\"1\" class=\"dataframe\">\n",
       "  <thead>\n",
       "    <tr style=\"text-align: right;\">\n",
       "      <th></th>\n",
       "      <th>Date</th>\n",
       "      <th>Original Price</th>\n",
       "      <th>Discount%</th>\n",
       "    </tr>\n",
       "  </thead>\n",
       "  <tbody>\n",
       "    <tr>\n",
       "      <th>count</th>\n",
       "      <td>3500</td>\n",
       "      <td>3500.000000</td>\n",
       "      <td>3500.000000</td>\n",
       "    </tr>\n",
       "    <tr>\n",
       "      <th>mean</th>\n",
       "      <td>2022-02-15 04:32:46.628571392</td>\n",
       "      <td>843.840000</td>\n",
       "      <td>0.355146</td>\n",
       "    </tr>\n",
       "    <tr>\n",
       "      <th>min</th>\n",
       "      <td>2021-01-01 00:00:00</td>\n",
       "      <td>123.000000</td>\n",
       "      <td>0.100000</td>\n",
       "    </tr>\n",
       "    <tr>\n",
       "      <th>25%</th>\n",
       "      <td>2021-07-23 00:00:00</td>\n",
       "      <td>456.000000</td>\n",
       "      <td>0.300000</td>\n",
       "    </tr>\n",
       "    <tr>\n",
       "      <th>50%</th>\n",
       "      <td>2022-02-19 00:00:00</td>\n",
       "      <td>634.000000</td>\n",
       "      <td>0.350000</td>\n",
       "    </tr>\n",
       "    <tr>\n",
       "      <th>75%</th>\n",
       "      <td>2022-09-06 00:00:00</td>\n",
       "      <td>1119.000000</td>\n",
       "      <td>0.420000</td>\n",
       "    </tr>\n",
       "    <tr>\n",
       "      <th>max</th>\n",
       "      <td>2023-03-31 00:00:00</td>\n",
       "      <td>22365.000000</td>\n",
       "      <td>0.550000</td>\n",
       "    </tr>\n",
       "    <tr>\n",
       "      <th>std</th>\n",
       "      <td>NaN</td>\n",
       "      <td>689.706016</td>\n",
       "      <td>0.100804</td>\n",
       "    </tr>\n",
       "  </tbody>\n",
       "</table>\n",
       "</div>"
      ],
      "text/plain": [
       "                                Date  Original Price    Discount%\n",
       "count                           3500     3500.000000  3500.000000\n",
       "mean   2022-02-15 04:32:46.628571392      843.840000     0.355146\n",
       "min              2021-01-01 00:00:00      123.000000     0.100000\n",
       "25%              2021-07-23 00:00:00      456.000000     0.300000\n",
       "50%              2022-02-19 00:00:00      634.000000     0.350000\n",
       "75%              2022-09-06 00:00:00     1119.000000     0.420000\n",
       "max              2023-03-31 00:00:00    22365.000000     0.550000\n",
       "std                              NaN      689.706016     0.100804"
      ]
     },
     "execution_count": 8,
     "metadata": {},
     "output_type": "execute_result"
    }
   ],
   "source": [
    "orders.describe()"
   ]
  },
  {
   "cell_type": "code",
   "execution_count": 9,
   "metadata": {
    "colab": {
     "base_uri": "https://localhost:8080/"
    },
    "id": "zt_kLQV_NlOe",
    "outputId": "d7a28d72-cf52-4edd-f2e6-2f5e331b7f05"
   },
   "outputs": [
    {
     "data": {
      "text/plain": [
       "np.int64(0)"
      ]
     },
     "execution_count": 9,
     "metadata": {},
     "output_type": "execute_result"
    }
   ],
   "source": [
    "#Check for duplicates\n",
    "products.duplicated().sum()\n",
    "customers.duplicated().sum()\n",
    "orders.duplicated().sum()"
   ]
  },
  {
   "cell_type": "code",
   "execution_count": 10,
   "metadata": {
    "colab": {
     "base_uri": "https://localhost:8080/",
     "height": 424
    },
    "id": "2pOw-MCEN-3v",
    "outputId": "8063144d-174e-473e-ac71-ef9c6048cacf"
   },
   "outputs": [
    {
     "data": {
      "text/html": [
       "<div>\n",
       "<style scoped>\n",
       "    .dataframe tbody tr th:only-of-type {\n",
       "        vertical-align: middle;\n",
       "    }\n",
       "\n",
       "    .dataframe tbody tr th {\n",
       "        vertical-align: top;\n",
       "    }\n",
       "\n",
       "    .dataframe thead th {\n",
       "        text-align: right;\n",
       "    }\n",
       "</style>\n",
       "<table border=\"1\" class=\"dataframe\">\n",
       "  <thead>\n",
       "    <tr style=\"text-align: right;\">\n",
       "      <th></th>\n",
       "      <th>Product ID</th>\n",
       "      <th>Category</th>\n",
       "      <th>Sub-category</th>\n",
       "      <th>Product Name</th>\n",
       "      <th>Brand Name</th>\n",
       "      <th>Size</th>\n",
       "      <th>Color</th>\n",
       "      <th>Ratings</th>\n",
       "    </tr>\n",
       "  </thead>\n",
       "  <tbody>\n",
       "    <tr>\n",
       "      <th>0</th>\n",
       "      <td>P0001</td>\n",
       "      <td>Women</td>\n",
       "      <td>Topwear</td>\n",
       "      <td>T-Shirts</td>\n",
       "      <td>Roadster</td>\n",
       "      <td>40</td>\n",
       "      <td>Black</td>\n",
       "      <td>4</td>\n",
       "    </tr>\n",
       "    <tr>\n",
       "      <th>1</th>\n",
       "      <td>P0002</td>\n",
       "      <td>Women</td>\n",
       "      <td>Topwear</td>\n",
       "      <td>T-Shirts</td>\n",
       "      <td>Roadster</td>\n",
       "      <td>40</td>\n",
       "      <td>Blue</td>\n",
       "      <td>5</td>\n",
       "    </tr>\n",
       "    <tr>\n",
       "      <th>2</th>\n",
       "      <td>P0003</td>\n",
       "      <td>Women</td>\n",
       "      <td>Topwear</td>\n",
       "      <td>T-Shirts</td>\n",
       "      <td>Roadster</td>\n",
       "      <td>42</td>\n",
       "      <td>White</td>\n",
       "      <td>3</td>\n",
       "    </tr>\n",
       "    <tr>\n",
       "      <th>3</th>\n",
       "      <td>P0004</td>\n",
       "      <td>Women</td>\n",
       "      <td>Topwear</td>\n",
       "      <td>T-Shirts</td>\n",
       "      <td>Roadster</td>\n",
       "      <td>44</td>\n",
       "      <td>Green</td>\n",
       "      <td>2</td>\n",
       "    </tr>\n",
       "    <tr>\n",
       "      <th>4</th>\n",
       "      <td>P0005</td>\n",
       "      <td>Women</td>\n",
       "      <td>Topwear</td>\n",
       "      <td>T-Shirts</td>\n",
       "      <td>Puma</td>\n",
       "      <td>38</td>\n",
       "      <td>Olive</td>\n",
       "      <td>5</td>\n",
       "    </tr>\n",
       "    <tr>\n",
       "      <th>...</th>\n",
       "      <td>...</td>\n",
       "      <td>...</td>\n",
       "      <td>...</td>\n",
       "      <td>...</td>\n",
       "      <td>...</td>\n",
       "      <td>...</td>\n",
       "      <td>...</td>\n",
       "      <td>...</td>\n",
       "    </tr>\n",
       "    <tr>\n",
       "      <th>3066</th>\n",
       "      <td>P3067</td>\n",
       "      <td>Kids</td>\n",
       "      <td>Footwear</td>\n",
       "      <td>Sandals</td>\n",
       "      <td>Campus</td>\n",
       "      <td>9-12M</td>\n",
       "      <td>Olive</td>\n",
       "      <td>5</td>\n",
       "    </tr>\n",
       "    <tr>\n",
       "      <th>3067</th>\n",
       "      <td>P3068</td>\n",
       "      <td>Kids</td>\n",
       "      <td>Footwear</td>\n",
       "      <td>Sandals</td>\n",
       "      <td>Campus</td>\n",
       "      <td>9-12M</td>\n",
       "      <td>Teal</td>\n",
       "      <td>3</td>\n",
       "    </tr>\n",
       "    <tr>\n",
       "      <th>3068</th>\n",
       "      <td>P3069</td>\n",
       "      <td>Kids</td>\n",
       "      <td>Footwear</td>\n",
       "      <td>Sandals</td>\n",
       "      <td>Campus</td>\n",
       "      <td>3-6M</td>\n",
       "      <td>Sea Green</td>\n",
       "      <td>5</td>\n",
       "    </tr>\n",
       "    <tr>\n",
       "      <th>3069</th>\n",
       "      <td>P3070</td>\n",
       "      <td>Kids</td>\n",
       "      <td>Footwear</td>\n",
       "      <td>Sandals</td>\n",
       "      <td>Campus</td>\n",
       "      <td>3-6M</td>\n",
       "      <td>Turquoise Blue</td>\n",
       "      <td>5</td>\n",
       "    </tr>\n",
       "    <tr>\n",
       "      <th>3070</th>\n",
       "      <td>P3071</td>\n",
       "      <td>Kids</td>\n",
       "      <td>Footwear</td>\n",
       "      <td>Sandals</td>\n",
       "      <td>Campus</td>\n",
       "      <td>3-6M</td>\n",
       "      <td>Charcoal</td>\n",
       "      <td>4</td>\n",
       "    </tr>\n",
       "  </tbody>\n",
       "</table>\n",
       "<p>3071 rows × 8 columns</p>\n",
       "</div>"
      ],
      "text/plain": [
       "     Product ID Category Sub-category Product Name Brand Name   Size  \\\n",
       "0         P0001    Women      Topwear     T-Shirts   Roadster     40   \n",
       "1         P0002    Women      Topwear     T-Shirts   Roadster     40   \n",
       "2         P0003    Women      Topwear     T-Shirts   Roadster     42   \n",
       "3         P0004    Women      Topwear     T-Shirts   Roadster     44   \n",
       "4         P0005    Women      Topwear     T-Shirts       Puma     38   \n",
       "...         ...      ...          ...          ...        ...    ...   \n",
       "3066      P3067     Kids     Footwear      Sandals     Campus  9-12M   \n",
       "3067      P3068     Kids     Footwear      Sandals     Campus  9-12M   \n",
       "3068      P3069     Kids     Footwear      Sandals     Campus   3-6M   \n",
       "3069      P3070     Kids     Footwear      Sandals     Campus   3-6M   \n",
       "3070      P3071     Kids     Footwear      Sandals     Campus   3-6M   \n",
       "\n",
       "               Color  Ratings  \n",
       "0              Black        4  \n",
       "1               Blue        5  \n",
       "2              White        3  \n",
       "3              Green        2  \n",
       "4              Olive        5  \n",
       "...              ...      ...  \n",
       "3066           Olive        5  \n",
       "3067            Teal        3  \n",
       "3068       Sea Green        5  \n",
       "3069  Turquoise Blue        5  \n",
       "3070        Charcoal        4  \n",
       "\n",
       "[3071 rows x 8 columns]"
      ]
     },
     "execution_count": 10,
     "metadata": {},
     "output_type": "execute_result"
    }
   ],
   "source": [
    "products.drop_duplicates()"
   ]
  },
  {
   "cell_type": "markdown",
   "metadata": {
    "id": "hmwnJD6LlpCN"
   },
   "source": [
    "# ***Which product categories have the highest number of products?***"
   ]
  },
  {
   "cell_type": "code",
   "execution_count": 11,
   "metadata": {
    "colab": {
     "base_uri": "https://localhost:8080/",
     "height": 642
    },
    "id": "kVFv5omWntyQ",
    "outputId": "8cd335a5-23c9-4a92-e5dc-aa24d5cd8fe8"
   },
   "outputs": [
    {
     "name": "stdout",
     "output_type": "stream",
     "text": [
      "Top Product Categories by Count:\n",
      "Category\n",
      "Women     993\n",
      "Men       989\n",
      "Beauty    620\n",
      "Kids      469\n",
      "Name: count, dtype: int64\n"
     ]
    },
    {
     "data": {
      "image/png": "[encoded data removed]",
      "text/plain": [
       "<Figure size 1000x500 with 1 Axes>"
      ]
     },
     "metadata": {},
     "output_type": "display_data"
    }
   ],
   "source": [
    "# Count the number of products in each Category\n",
    "top_categories = products['Category'].value_counts().head()\n",
    "\n",
    "# Display the result\n",
    "print(\"Top Product Categories by Count:\")\n",
    "print(top_categories)\n",
    "\n",
    "# Plot the top categories\n",
    "plt.figure(figsize=(10, 5))\n",
    "sns.barplot(x = top_categories.index, y=top_categories.values, hue = top_categories.index,palette=\"viridis\",legend=False)\n",
    "plt.xticks(rotation=45)\n",
    "plt.xlabel(\"Product Category\")\n",
    "plt.ylabel(\"Number of Products\")\n",
    "plt.title(\"Top Product Categories by Count\")\n",
    "plt.show()"
   ]
  },
  {
   "cell_type": "code",
   "execution_count": 12,
   "metadata": {
    "colab": {
     "base_uri": "https://localhost:8080/",
     "height": 424
    },
    "id": "ZWSs-qWHT_ZE",
    "outputId": "731cbd12-9423-49f1-9a72-0bc4cd6e2c51"
   },
   "outputs": [
    {
     "data": {
      "text/html": [
       "<div>\n",
       "<style scoped>\n",
       "    .dataframe tbody tr th:only-of-type {\n",
       "        vertical-align: middle;\n",
       "    }\n",
       "\n",
       "    .dataframe tbody tr th {\n",
       "        vertical-align: top;\n",
       "    }\n",
       "\n",
       "    .dataframe thead th {\n",
       "        text-align: right;\n",
       "    }\n",
       "</style>\n",
       "<table border=\"1\" class=\"dataframe\">\n",
       "  <thead>\n",
       "    <tr style=\"text-align: right;\">\n",
       "      <th></th>\n",
       "      <th>Order ID</th>\n",
       "      <th>Customer ID</th>\n",
       "      <th>Product ID</th>\n",
       "      <th>Date</th>\n",
       "      <th>Original Price</th>\n",
       "      <th>Discount%</th>\n",
       "      <th>Total Price</th>\n",
       "    </tr>\n",
       "  </thead>\n",
       "  <tbody>\n",
       "    <tr>\n",
       "      <th>0</th>\n",
       "      <td>OD0001</td>\n",
       "      <td>C001</td>\n",
       "      <td>P0001</td>\n",
       "      <td>2021-05-20</td>\n",
       "      <td>349</td>\n",
       "      <td>0.30</td>\n",
       "      <td>244.30</td>\n",
       "    </tr>\n",
       "    <tr>\n",
       "      <th>1</th>\n",
       "      <td>OD0002</td>\n",
       "      <td>C002</td>\n",
       "      <td>P0001</td>\n",
       "      <td>2021-01-19</td>\n",
       "      <td>350</td>\n",
       "      <td>0.30</td>\n",
       "      <td>245.00</td>\n",
       "    </tr>\n",
       "    <tr>\n",
       "      <th>2</th>\n",
       "      <td>OD0003</td>\n",
       "      <td>C003</td>\n",
       "      <td>P0001</td>\n",
       "      <td>2021-10-28</td>\n",
       "      <td>351</td>\n",
       "      <td>0.30</td>\n",
       "      <td>245.70</td>\n",
       "    </tr>\n",
       "    <tr>\n",
       "      <th>3</th>\n",
       "      <td>OD0004</td>\n",
       "      <td>C004</td>\n",
       "      <td>P0001</td>\n",
       "      <td>2021-05-20</td>\n",
       "      <td>352</td>\n",
       "      <td>0.25</td>\n",
       "      <td>264.00</td>\n",
       "    </tr>\n",
       "    <tr>\n",
       "      <th>4</th>\n",
       "      <td>OD0005</td>\n",
       "      <td>C005</td>\n",
       "      <td>P0001</td>\n",
       "      <td>2022-11-08</td>\n",
       "      <td>353</td>\n",
       "      <td>0.25</td>\n",
       "      <td>264.75</td>\n",
       "    </tr>\n",
       "    <tr>\n",
       "      <th>...</th>\n",
       "      <td>...</td>\n",
       "      <td>...</td>\n",
       "      <td>...</td>\n",
       "      <td>...</td>\n",
       "      <td>...</td>\n",
       "      <td>...</td>\n",
       "      <td>...</td>\n",
       "    </tr>\n",
       "    <tr>\n",
       "      <th>3495</th>\n",
       "      <td>OD3496</td>\n",
       "      <td>C081</td>\n",
       "      <td>P3071</td>\n",
       "      <td>2023-01-01</td>\n",
       "      <td>685</td>\n",
       "      <td>0.50</td>\n",
       "      <td>342.50</td>\n",
       "    </tr>\n",
       "    <tr>\n",
       "      <th>3496</th>\n",
       "      <td>OD3497</td>\n",
       "      <td>C082</td>\n",
       "      <td>P3071</td>\n",
       "      <td>2022-07-08</td>\n",
       "      <td>707</td>\n",
       "      <td>0.50</td>\n",
       "      <td>353.50</td>\n",
       "    </tr>\n",
       "    <tr>\n",
       "      <th>3497</th>\n",
       "      <td>OD3498</td>\n",
       "      <td>C083</td>\n",
       "      <td>P3071</td>\n",
       "      <td>2021-02-06</td>\n",
       "      <td>1819</td>\n",
       "      <td>0.50</td>\n",
       "      <td>909.50</td>\n",
       "    </tr>\n",
       "    <tr>\n",
       "      <th>3498</th>\n",
       "      <td>OD3499</td>\n",
       "      <td>C084</td>\n",
       "      <td>P3071</td>\n",
       "      <td>2021-07-18</td>\n",
       "      <td>856</td>\n",
       "      <td>0.50</td>\n",
       "      <td>428.00</td>\n",
       "    </tr>\n",
       "    <tr>\n",
       "      <th>3499</th>\n",
       "      <td>OD3500</td>\n",
       "      <td>C085</td>\n",
       "      <td>P3071</td>\n",
       "      <td>2023-03-15</td>\n",
       "      <td>1404</td>\n",
       "      <td>0.50</td>\n",
       "      <td>702.00</td>\n",
       "    </tr>\n",
       "  </tbody>\n",
       "</table>\n",
       "<p>3500 rows × 7 columns</p>\n",
       "</div>"
      ],
      "text/plain": [
       "     Order ID Customer ID Product ID       Date  Original Price  Discount%  \\\n",
       "0      OD0001        C001      P0001 2021-05-20             349       0.30   \n",
       "1      OD0002        C002      P0001 2021-01-19             350       0.30   \n",
       "2      OD0003        C003      P0001 2021-10-28             351       0.30   \n",
       "3      OD0004        C004      P0001 2021-05-20             352       0.25   \n",
       "4      OD0005        C005      P0001 2022-11-08             353       0.25   \n",
       "...       ...         ...        ...        ...             ...        ...   \n",
       "3495   OD3496        C081      P3071 2023-01-01             685       0.50   \n",
       "3496   OD3497        C082      P3071 2022-07-08             707       0.50   \n",
       "3497   OD3498        C083      P3071 2021-02-06            1819       0.50   \n",
       "3498   OD3499        C084      P3071 2021-07-18             856       0.50   \n",
       "3499   OD3500        C085      P3071 2023-03-15            1404       0.50   \n",
       "\n",
       "      Total Price  \n",
       "0          244.30  \n",
       "1          245.00  \n",
       "2          245.70  \n",
       "3          264.00  \n",
       "4          264.75  \n",
       "...           ...  \n",
       "3495       342.50  \n",
       "3496       353.50  \n",
       "3497       909.50  \n",
       "3498       428.00  \n",
       "3499       702.00  \n",
       "\n",
       "[3500 rows x 7 columns]"
      ]
     },
     "execution_count": 12,
     "metadata": {},
     "output_type": "execute_result"
    }
   ],
   "source": [
    "orders[\"Total Price\"] = orders[\"Original Price\"] - (orders[\"Original Price\"]* orders[\"Discount%\"])\n",
    "orders"
   ]
  },
  {
   "cell_type": "code",
   "execution_count": 13,
   "metadata": {
    "colab": {
     "base_uri": "https://localhost:8080/",
     "height": 615
    },
    "id": "8n7OgD8xQyxv",
    "outputId": "2fe15fd1-bc65-45a3-ca93-9215c5d1e04c"
   },
   "outputs": [
    {
     "data": {
      "text/html": [
       "<div>\n",
       "<style scoped>\n",
       "    .dataframe tbody tr th:only-of-type {\n",
       "        vertical-align: middle;\n",
       "    }\n",
       "\n",
       "    .dataframe tbody tr th {\n",
       "        vertical-align: top;\n",
       "    }\n",
       "\n",
       "    .dataframe thead th {\n",
       "        text-align: right;\n",
       "    }\n",
       "</style>\n",
       "<table border=\"1\" class=\"dataframe\">\n",
       "  <thead>\n",
       "    <tr style=\"text-align: right;\">\n",
       "      <th></th>\n",
       "      <th>Order ID</th>\n",
       "      <th>Customer ID</th>\n",
       "      <th>Product ID</th>\n",
       "      <th>Date</th>\n",
       "      <th>Original Price</th>\n",
       "      <th>Discount%</th>\n",
       "      <th>Total Price</th>\n",
       "      <th>Category</th>\n",
       "      <th>Sub-category</th>\n",
       "      <th>Product Name</th>\n",
       "      <th>Brand Name</th>\n",
       "      <th>Size</th>\n",
       "      <th>Color</th>\n",
       "      <th>Ratings</th>\n",
       "    </tr>\n",
       "  </thead>\n",
       "  <tbody>\n",
       "    <tr>\n",
       "      <th>0</th>\n",
       "      <td>OD0001</td>\n",
       "      <td>C001</td>\n",
       "      <td>P0001</td>\n",
       "      <td>2021-05-20</td>\n",
       "      <td>349</td>\n",
       "      <td>0.30</td>\n",
       "      <td>244.30</td>\n",
       "      <td>Women</td>\n",
       "      <td>Topwear</td>\n",
       "      <td>T-Shirts</td>\n",
       "      <td>Roadster</td>\n",
       "      <td>40</td>\n",
       "      <td>Black</td>\n",
       "      <td>4</td>\n",
       "    </tr>\n",
       "    <tr>\n",
       "      <th>1</th>\n",
       "      <td>OD0002</td>\n",
       "      <td>C002</td>\n",
       "      <td>P0001</td>\n",
       "      <td>2021-01-19</td>\n",
       "      <td>350</td>\n",
       "      <td>0.30</td>\n",
       "      <td>245.00</td>\n",
       "      <td>Women</td>\n",
       "      <td>Topwear</td>\n",
       "      <td>T-Shirts</td>\n",
       "      <td>Roadster</td>\n",
       "      <td>40</td>\n",
       "      <td>Black</td>\n",
       "      <td>4</td>\n",
       "    </tr>\n",
       "    <tr>\n",
       "      <th>2</th>\n",
       "      <td>OD0003</td>\n",
       "      <td>C003</td>\n",
       "      <td>P0001</td>\n",
       "      <td>2021-10-28</td>\n",
       "      <td>351</td>\n",
       "      <td>0.30</td>\n",
       "      <td>245.70</td>\n",
       "      <td>Women</td>\n",
       "      <td>Topwear</td>\n",
       "      <td>T-Shirts</td>\n",
       "      <td>Roadster</td>\n",
       "      <td>40</td>\n",
       "      <td>Black</td>\n",
       "      <td>4</td>\n",
       "    </tr>\n",
       "    <tr>\n",
       "      <th>3</th>\n",
       "      <td>OD0004</td>\n",
       "      <td>C004</td>\n",
       "      <td>P0001</td>\n",
       "      <td>2021-05-20</td>\n",
       "      <td>352</td>\n",
       "      <td>0.25</td>\n",
       "      <td>264.00</td>\n",
       "      <td>Women</td>\n",
       "      <td>Topwear</td>\n",
       "      <td>T-Shirts</td>\n",
       "      <td>Roadster</td>\n",
       "      <td>40</td>\n",
       "      <td>Black</td>\n",
       "      <td>4</td>\n",
       "    </tr>\n",
       "    <tr>\n",
       "      <th>4</th>\n",
       "      <td>OD0005</td>\n",
       "      <td>C005</td>\n",
       "      <td>P0001</td>\n",
       "      <td>2022-11-08</td>\n",
       "      <td>353</td>\n",
       "      <td>0.25</td>\n",
       "      <td>264.75</td>\n",
       "      <td>Women</td>\n",
       "      <td>Topwear</td>\n",
       "      <td>T-Shirts</td>\n",
       "      <td>Roadster</td>\n",
       "      <td>40</td>\n",
       "      <td>Black</td>\n",
       "      <td>4</td>\n",
       "    </tr>\n",
       "    <tr>\n",
       "      <th>...</th>\n",
       "      <td>...</td>\n",
       "      <td>...</td>\n",
       "      <td>...</td>\n",
       "      <td>...</td>\n",
       "      <td>...</td>\n",
       "      <td>...</td>\n",
       "      <td>...</td>\n",
       "      <td>...</td>\n",
       "      <td>...</td>\n",
       "      <td>...</td>\n",
       "      <td>...</td>\n",
       "      <td>...</td>\n",
       "      <td>...</td>\n",
       "      <td>...</td>\n",
       "    </tr>\n",
       "    <tr>\n",
       "      <th>3495</th>\n",
       "      <td>OD3496</td>\n",
       "      <td>C081</td>\n",
       "      <td>P3071</td>\n",
       "      <td>2023-01-01</td>\n",
       "      <td>685</td>\n",
       "      <td>0.50</td>\n",
       "      <td>342.50</td>\n",
       "      <td>Kids</td>\n",
       "      <td>Footwear</td>\n",
       "      <td>Sandals</td>\n",
       "      <td>Campus</td>\n",
       "      <td>3-6M</td>\n",
       "      <td>Charcoal</td>\n",
       "      <td>4</td>\n",
       "    </tr>\n",
       "    <tr>\n",
       "      <th>3496</th>\n",
       "      <td>OD3497</td>\n",
       "      <td>C082</td>\n",
       "      <td>P3071</td>\n",
       "      <td>2022-07-08</td>\n",
       "      <td>707</td>\n",
       "      <td>0.50</td>\n",
       "      <td>353.50</td>\n",
       "      <td>Kids</td>\n",
       "      <td>Footwear</td>\n",
       "      <td>Sandals</td>\n",
       "      <td>Campus</td>\n",
       "      <td>3-6M</td>\n",
       "      <td>Charcoal</td>\n",
       "      <td>4</td>\n",
       "    </tr>\n",
       "    <tr>\n",
       "      <th>3497</th>\n",
       "      <td>OD3498</td>\n",
       "      <td>C083</td>\n",
       "      <td>P3071</td>\n",
       "      <td>2021-02-06</td>\n",
       "      <td>1819</td>\n",
       "      <td>0.50</td>\n",
       "      <td>909.50</td>\n",
       "      <td>Kids</td>\n",
       "      <td>Footwear</td>\n",
       "      <td>Sandals</td>\n",
       "      <td>Campus</td>\n",
       "      <td>3-6M</td>\n",
       "      <td>Charcoal</td>\n",
       "      <td>4</td>\n",
       "    </tr>\n",
       "    <tr>\n",
       "      <th>3498</th>\n",
       "      <td>OD3499</td>\n",
       "      <td>C084</td>\n",
       "      <td>P3071</td>\n",
       "      <td>2021-07-18</td>\n",
       "      <td>856</td>\n",
       "      <td>0.50</td>\n",
       "      <td>428.00</td>\n",
       "      <td>Kids</td>\n",
       "      <td>Footwear</td>\n",
       "      <td>Sandals</td>\n",
       "      <td>Campus</td>\n",
       "      <td>3-6M</td>\n",
       "      <td>Charcoal</td>\n",
       "      <td>4</td>\n",
       "    </tr>\n",
       "    <tr>\n",
       "      <th>3499</th>\n",
       "      <td>OD3500</td>\n",
       "      <td>C085</td>\n",
       "      <td>P3071</td>\n",
       "      <td>2023-03-15</td>\n",
       "      <td>1404</td>\n",
       "      <td>0.50</td>\n",
       "      <td>702.00</td>\n",
       "      <td>Kids</td>\n",
       "      <td>Footwear</td>\n",
       "      <td>Sandals</td>\n",
       "      <td>Campus</td>\n",
       "      <td>3-6M</td>\n",
       "      <td>Charcoal</td>\n",
       "      <td>4</td>\n",
       "    </tr>\n",
       "  </tbody>\n",
       "</table>\n",
       "<p>3500 rows × 14 columns</p>\n",
       "</div>"
      ],
      "text/plain": [
       "     Order ID Customer ID Product ID       Date  Original Price  Discount%  \\\n",
       "0      OD0001        C001      P0001 2021-05-20             349       0.30   \n",
       "1      OD0002        C002      P0001 2021-01-19             350       0.30   \n",
       "2      OD0003        C003      P0001 2021-10-28             351       0.30   \n",
       "3      OD0004        C004      P0001 2021-05-20             352       0.25   \n",
       "4      OD0005        C005      P0001 2022-11-08             353       0.25   \n",
       "...       ...         ...        ...        ...             ...        ...   \n",
       "3495   OD3496        C081      P3071 2023-01-01             685       0.50   \n",
       "3496   OD3497        C082      P3071 2022-07-08             707       0.50   \n",
       "3497   OD3498        C083      P3071 2021-02-06            1819       0.50   \n",
       "3498   OD3499        C084      P3071 2021-07-18             856       0.50   \n",
       "3499   OD3500        C085      P3071 2023-03-15            1404       0.50   \n",
       "\n",
       "      Total Price Category Sub-category Product Name Brand Name  Size  \\\n",
       "0          244.30    Women      Topwear     T-Shirts   Roadster    40   \n",
       "1          245.00    Women      Topwear     T-Shirts   Roadster    40   \n",
       "2          245.70    Women      Topwear     T-Shirts   Roadster    40   \n",
       "3          264.00    Women      Topwear     T-Shirts   Roadster    40   \n",
       "4          264.75    Women      Topwear     T-Shirts   Roadster    40   \n",
       "...           ...      ...          ...          ...        ...   ...   \n",
       "3495       342.50     Kids     Footwear      Sandals     Campus  3-6M   \n",
       "3496       353.50     Kids     Footwear      Sandals     Campus  3-6M   \n",
       "3497       909.50     Kids     Footwear      Sandals     Campus  3-6M   \n",
       "3498       428.00     Kids     Footwear      Sandals     Campus  3-6M   \n",
       "3499       702.00     Kids     Footwear      Sandals     Campus  3-6M   \n",
       "\n",
       "         Color  Ratings  \n",
       "0        Black        4  \n",
       "1        Black        4  \n",
       "2        Black        4  \n",
       "3        Black        4  \n",
       "4        Black        4  \n",
       "...        ...      ...  \n",
       "3495  Charcoal        4  \n",
       "3496  Charcoal        4  \n",
       "3497  Charcoal        4  \n",
       "3498  Charcoal        4  \n",
       "3499  Charcoal        4  \n",
       "\n",
       "[3500 rows x 14 columns]"
      ]
     },
     "execution_count": 13,
     "metadata": {},
     "output_type": "execute_result"
    }
   ],
   "source": [
    "df = pd.merge(left=orders, right=products, how=\"inner\", on=\"Product ID\")\n",
    "df"
   ]
  },
  {
   "cell_type": "markdown",
   "metadata": {
    "id": "pQay_jZrlwYF"
   },
   "source": [
    "# ***How does the price distribution vary across different product categories?***"
   ]
  },
  {
   "cell_type": "code",
   "execution_count": 14,
   "metadata": {
    "colab": {
     "base_uri": "https://localhost:8080/",
     "height": 597
    },
    "id": "iFkmodJapted",
    "outputId": "0105771d-d071-4f85-dc85-611073f660ee"
   },
   "outputs": [
    {
     "data": {
      "image/png": "[encoded data removed]",
      "text/plain": [
       "<Figure size 1200x600 with 1 Axes>"
      ]
     },
     "metadata": {},
     "output_type": "display_data"
    }
   ],
   "source": [
    "# Merge price data from orders into products\n",
    "df_merged = orders.merge(products, on=\"Product ID\", how='left')\n",
    "\n",
    "# Price distribution across different categories\n",
    "top_categories = products['Category'].value_counts().head(10).index\n",
    "df_top_categories = df_merged[df_merged['Category'].isin(top_categories)]\n",
    "\n",
    "#Visualization\n",
    "plt.figure(figsize=(12, 6))\n",
    "sns.violinplot(x='Category', y='Total Price', data=df_top_categories, hue='Category', palette=\"coolwarm\", legend=False)\n",
    "plt.xticks(rotation=45)\n",
    "plt.xlabel(\"Product Category\")\n",
    "plt.ylabel(\"Price\")\n",
    "plt.title(\"Price Distribution Across Top 10 Product Categories\")\n",
    "plt.yscale(\"log\")  # Log scale to handle large price variations\n",
    "plt.show()\n"
   ]
  },
  {
   "cell_type": "markdown",
   "metadata": {
    "id": "dSwaJEsolwCH"
   },
   "source": [
    "# ***What are the top 10 most expensive and least expensive products?***"
   ]
  },
  {
   "cell_type": "code",
   "execution_count": 15,
   "metadata": {
    "colab": {
     "base_uri": "https://localhost:8080/"
    },
    "id": "km4sSv8Uiaox",
    "outputId": "de976cc7-c79c-4e15-bd74-1275cdc94352"
   },
   "outputs": [
    {
     "name": "stdout",
     "output_type": "stream",
     "text": [
      "Top 10 Most Expensive Products:\n",
      "     Order ID Customer ID Product ID       Date  Original Price  Discount%  \\\n",
      "3452   OD3453        C038      P3053 2021-02-17           22365       0.25   \n",
      "3457   OD3458        C043      P3054 2022-02-02            6523       0.40   \n",
      "3464   OD3465        C050      P3056 2021-05-17            4454       0.45   \n",
      "3465   OD3466        C051      P3057 2022-03-10            4454       0.45   \n",
      "545    OD0546        C031      P0458 2023-01-10            3654       0.35   \n",
      "3463   OD3464        C049      P3055 2021-09-11            4235       0.45   \n",
      "289    OD0290        C090      P0248 2021-10-13            2698       0.15   \n",
      "496    OD0497        C082      P0418 2022-12-17            2698       0.15   \n",
      "540    OD0541        C026      P0453 2022-10-09            2698       0.15   \n",
      "1002   OD1003        C088      P0852 2022-01-06            2698       0.15   \n",
      "\n",
      "      Total Price Category Sub-category  Product Name Brand Name    Size  \\\n",
      "3452     16773.75     Kids     Footwear       Sandals       Puma   9-12M   \n",
      "3457      3913.80     Kids     Footwear       Sandals       Puma   9-12M   \n",
      "3464      2449.70     Kids     Footwear       Sandals       Puma   9-12M   \n",
      "3465      2449.70     Kids     Footwear       Sandals       Puma   9-12M   \n",
      "545       2375.10      Men      Topwear       Jackets       Puma      44   \n",
      "3463      2329.25     Kids     Footwear       Sandals       Puma   9-12M   \n",
      "289       2293.30      Men      Topwear   Sweatshirts      Levis      42   \n",
      "496       2293.30      Men      Topwear       Jackets        H&M      44   \n",
      "540       2293.30      Men      Topwear       Jackets       Puma      42   \n",
      "1002      2293.30      Men     Footwear  Casual Shoes       Puma  11  UK   \n",
      "\n",
      "          Color  Ratings  \n",
      "3452      Black        4  \n",
      "3457     Yellow        4  \n",
      "3464     Yellow        3  \n",
      "3465     Yellow        5  \n",
      "545        Rust        5  \n",
      "3463     Yellow        4  \n",
      "289         Red        3  \n",
      "496        Pink        4  \n",
      "540       Brown        4  \n",
      "1002  Off white        5  \n",
      "Top 10 Least Expensive Products:\n",
      "     Order ID Customer ID Product ID       Date  Original Price  Discount%  \\\n",
      "2707   OD2708        C093      P2376 2021-10-30             124       0.34   \n",
      "2565   OD2566        C051      P2249 2021-10-25             234       0.55   \n",
      "360    OD0361        C046      P0307 2021-01-02             236       0.55   \n",
      "486    OD0487        C072      P0413 2023-03-04             236       0.55   \n",
      "1912   OD1913        C098      P1665 2022-07-03             236       0.55   \n",
      "3011   OD3012        C097      P2656 2022-09-20             236       0.55   \n",
      "2703   OD2704        C089      P2372 2022-11-04             123       0.12   \n",
      "169    OD0170        C070      P0139 2022-06-11             256       0.55   \n",
      "1208   OD1209        C094      P1032 2022-07-22             256       0.55   \n",
      "1419   OD1420        C005      P1218 2022-02-06             256       0.55   \n",
      "\n",
      "      Total Price Category          Sub-category  Product Name  Brand Name  \\\n",
      "2707        81.84   Beauty              Skincare   Body Lotion    Vaseline   \n",
      "2565       105.30   Beauty                Makeup   Nail Polish     MyGlamm   \n",
      "360        106.20      Men               Topwear      Sweaters     Raymond   \n",
      "486        106.20      Men               Topwear       Jackets      Adidas   \n",
      "1912       106.20    Women          Western Wear        Shorts         H&M   \n",
      "3011       106.20     Kids         Boys Clothing        Shorts      Adidas   \n",
      "2703       108.24   Beauty              Skincare   Body Lotion    Vaseline   \n",
      "169        115.20      Men               Topwear        Shirts  Van Heusen   \n",
      "1208       115.20      Men              Footwear  Sports Shoes        Nike   \n",
      "1419       115.20    Women  Indian & Fusion Wear   Ethnic Wear      Kalini   \n",
      "\n",
      "         Size      Color  Ratings  \n",
      "2707  Onesize      White        3  \n",
      "2565  Onesize       Pink        5  \n",
      "360        46  Navy Blue        5  \n",
      "486        44      Brown        4  \n",
      "1912       26      Beige        5  \n",
      "3011     1-2Y      Green        4  \n",
      "2703  Onesize      Cream        3  \n",
      "169        40       Blue        5  \n",
      "1208     8 UK       Pink        3  \n",
      "1419        M       Pink        3  \n"
     ]
    }
   ],
   "source": [
    "#Top 10 Most Expensive products\n",
    "print(\"Top 10 Most Expensive Products:\")\n",
    "print(df_merged.nlargest(10, 'Total Price'))\n",
    "\n",
    "#Top 10 Least Expensive products\n",
    "print(\"Top 10 Least Expensive Products:\")\n",
    "print(df_merged.nsmallest(10, 'Total Price'))"
   ]
  },
  {
   "cell_type": "markdown",
   "metadata": {
    "id": "SxXV5pmxmFqO"
   },
   "source": [
    "# ***What is the distribution of customers based on location, age group?***"
   ]
  },
  {
   "cell_type": "code",
   "execution_count": 16,
   "metadata": {
    "colab": {
     "base_uri": "https://localhost:8080/",
     "height": 713
    },
    "id": "avEcNbrSjpsa",
    "outputId": "0edf68c8-9f03-4703-9303-8038433ff8fc"
   },
   "outputs": [
    {
     "name": "stdout",
     "output_type": "stream",
     "text": [
      "Customer Locations Distribution:\n",
      "City\n",
      "Bengaluru    8\n",
      "Ahmedabad    6\n",
      "Jaipur       6\n",
      "Patiala      6\n",
      "Prayagraj    6\n",
      "Amritsar     5\n",
      "Pune         5\n",
      "Vadodara     5\n",
      "Jalandhar    4\n",
      "Aligarh      4\n",
      "Name: count, dtype: int64\n"
     ]
    },
    {
     "data": {
      "image/png": "[encoded data removed]",
      "text/plain": [
       "<Figure size 1000x500 with 1 Axes>"
      ]
     },
     "metadata": {},
     "output_type": "display_data"
    }
   ],
   "source": [
    "print(\"Customer Locations Distribution:\")\n",
    "print(customers['City'].value_counts().head(10))\n",
    "\n",
    "plt.figure(figsize=(10,5))\n",
    "sns.countplot(y=customers['City'], order=customers['City'].value_counts().index[:10],hue = customers['City'],legend=False, palette=\"viridis\")\n",
    "plt.title(\"Top 10 Customer Locations\")\n",
    "plt.xlabel(\"Number of Customers\")\n",
    "plt.ylabel(\"Location\")\n",
    "plt.show()"
   ]
  },
  {
   "cell_type": "code",
   "execution_count": 32,
   "metadata": {
    "colab": {
     "base_uri": "https://localhost:8080/",
     "height": 750
    },
    "id": "WnsZZfMyagS2",
    "outputId": "40e9ba68-6b2c-4319-c218-82ce84bd2dcb"
   },
   "outputs": [
    {
     "name": "stdout",
     "output_type": "stream",
     "text": [
      "Customer Age Group Distribution:\n",
      "Customer Age\n",
      "24    12\n",
      "18     9\n",
      "22     9\n",
      "29     6\n",
      "19     6\n",
      "23     5\n",
      "25     5\n",
      "27     4\n",
      "17     3\n",
      "35     3\n",
      "36     3\n",
      "26     3\n",
      "20     3\n",
      "30     2\n",
      "40     2\n",
      "37     2\n",
      "45     2\n",
      "44     2\n",
      "16     2\n",
      "21     2\n",
      "42     1\n",
      "41     1\n",
      "15     1\n",
      "43     1\n",
      "28     1\n",
      "32     1\n",
      "31     1\n",
      "33     1\n",
      "46     1\n",
      "48     1\n",
      "47     1\n",
      "49     1\n",
      "34     1\n",
      "38     1\n",
      "39     1\n",
      "Name: count, dtype: int64\n"
     ]
    },
    {
     "data": {
      "image/png": "[encoded data removed]",
      "text/plain": [
       "<Figure size 1200x600 with 1 Axes>"
      ]
     },
     "metadata": {},
     "output_type": "display_data"
    }
   ],
   "source": [
    "# Check if 'age' exists\n",
    "if 'age' in customers.columns:\n",
    "    # Convert 'age' column to numeric, forcing errors to NaN\n",
    "    customers['age'] = pd.to_numeric(customers['age'], errors='coerce')\n",
    "\n",
    "    # Drop NaN values that resulted from non-numeric values\n",
    "    customers=customers.dropna(subset=['age'])\n",
    "\n",
    "    # Convert age to integer\n",
    "    customers['age'] = customers['age'].astype(int)\n",
    "\n",
    "    # Creating age groups\n",
    "    customers['Customer Age'] = pd.cut(customers['age'],\n",
    "                                       bins=[0, 18, 25, 35, 45, 60, 100],\n",
    "                                       labels=[\"0-18\", \"19-25\", \"26-35\", \"36-45\", \"46-60\", \"60+\"])\n",
    "\n",
    "    print(customers[['age', 'Customer Age']].head())\n",
    "\n",
    "print(\"Customer Age Group Distribution:\")\n",
    "print(customers['Customer Age'].value_counts())\n",
    "\n",
    "plt.figure(figsize=(12,6))\n",
    "sns.countplot(x=customers['Customer Age'], order=customers['Customer Age'].value_counts().index,palette=\"coolwarm\",legend=False,hue=customers['Customer Age'])\n",
    "plt.title(\"Customer Age Group Distribution\")\n",
    "plt.xlabel(\"Age Group\")\n",
    "plt.ylabel(\"Number of Customers\")\n",
    "plt.show()"
   ]
  },
  {
   "cell_type": "markdown",
   "metadata": {
    "id": "ZC_2iMwxmMIj"
   },
   "source": [
    "# ***Do customers from a specific location spend more on average?***"
   ]
  },
  {
   "cell_type": "code",
   "execution_count": 33,
   "metadata": {
    "colab": {
     "base_uri": "https://localhost:8080/",
     "height": 946
    },
    "id": "kVSX6weWdcxm",
    "outputId": "8ae89f0a-c1b9-4933-9328-e4d9ce9c3a49"
   },
   "outputs": [
    {
     "name": "stdout",
     "output_type": "stream",
     "text": [
      "Top Locations by Average Spending:\n",
      "City\n",
      "Patna        658.562357\n",
      "Vadodara     640.085429\n",
      "Hyderabad    586.268429\n",
      "Indore       577.872429\n",
      "Pune         571.165543\n",
      "Kanpur       569.644357\n",
      "Mumbai       557.002286\n",
      "Bengaluru    555.123179\n",
      "Aligarh      552.811000\n",
      "Surat        544.896571\n",
      "Name: Total Price, dtype: float64\n"
     ]
    },
    {
     "data": {
      "image/png": "[encoded data removed]",
      "text/plain": [
       "<Figure size 1200x800 with 1 Axes>"
      ]
     },
     "metadata": {},
     "output_type": "display_data"
    }
   ],
   "source": [
    "# Merge customers and orders data\n",
    "df_customer_orders = orders.merge(customers, on='Customer ID', how='left')\n",
    "\n",
    "# Calculate average spending per location\n",
    "location_avg_spending = df_customer_orders.groupby('City')['Total Price'].mean().sort_values(ascending=False)\n",
    "\n",
    "# Display top locations with highest average spending\n",
    "print(\"Top Locations by Average Spending:\")\n",
    "print(location_avg_spending.head(10))\n",
    "\n",
    "# Plot the top 10 spending locations\n",
    "plt.figure(figsize=(12, 8))\n",
    "sns.barplot(x=location_avg_spending.head(10).index, y=location_avg_spending.head(10).values,hue=location_avg_spending.head(10).values, palette=\"coolwarm\")\n",
    "plt.xticks(rotation=45)\n",
    "plt.xlabel(\"Location\")\n",
    "plt.ylabel(\"Average Spending\")\n",
    "plt.title(\"Top 10 Locations with Highest Average Spending\")\n",
    "plt.show()"
   ]
  },
  {
   "cell_type": "code",
   "execution_count": 34,
   "metadata": {
    "colab": {
     "base_uri": "https://localhost:8080/",
     "height": 424
    },
    "id": "MhfUH_vfO6A4",
    "outputId": "fb006bad-801a-4d44-be23-325fb1d25d58"
   },
   "outputs": [
    {
     "data": {
      "text/html": [
       "<div>\n",
       "<style scoped>\n",
       "    .dataframe tbody tr th:only-of-type {\n",
       "        vertical-align: middle;\n",
       "    }\n",
       "\n",
       "    .dataframe tbody tr th {\n",
       "        vertical-align: top;\n",
       "    }\n",
       "\n",
       "    .dataframe thead th {\n",
       "        text-align: right;\n",
       "    }\n",
       "</style>\n",
       "<table border=\"1\" class=\"dataframe\">\n",
       "  <thead>\n",
       "    <tr style=\"text-align: right;\">\n",
       "      <th></th>\n",
       "      <th>Order ID</th>\n",
       "      <th>Customer ID</th>\n",
       "      <th>Product ID</th>\n",
       "      <th>Date</th>\n",
       "      <th>Original Price</th>\n",
       "      <th>Discount%</th>\n",
       "      <th>Total Price</th>\n",
       "      <th>Month</th>\n",
       "    </tr>\n",
       "  </thead>\n",
       "  <tbody>\n",
       "    <tr>\n",
       "      <th>0</th>\n",
       "      <td>OD0001</td>\n",
       "      <td>C001</td>\n",
       "      <td>P0001</td>\n",
       "      <td>2021-05-20</td>\n",
       "      <td>349</td>\n",
       "      <td>0.30</td>\n",
       "      <td>244.30</td>\n",
       "      <td>May</td>\n",
       "    </tr>\n",
       "    <tr>\n",
       "      <th>1</th>\n",
       "      <td>OD0002</td>\n",
       "      <td>C002</td>\n",
       "      <td>P0001</td>\n",
       "      <td>2021-01-19</td>\n",
       "      <td>350</td>\n",
       "      <td>0.30</td>\n",
       "      <td>245.00</td>\n",
       "      <td>January</td>\n",
       "    </tr>\n",
       "    <tr>\n",
       "      <th>2</th>\n",
       "      <td>OD0003</td>\n",
       "      <td>C003</td>\n",
       "      <td>P0001</td>\n",
       "      <td>2021-10-28</td>\n",
       "      <td>351</td>\n",
       "      <td>0.30</td>\n",
       "      <td>245.70</td>\n",
       "      <td>October</td>\n",
       "    </tr>\n",
       "    <tr>\n",
       "      <th>3</th>\n",
       "      <td>OD0004</td>\n",
       "      <td>C004</td>\n",
       "      <td>P0001</td>\n",
       "      <td>2021-05-20</td>\n",
       "      <td>352</td>\n",
       "      <td>0.25</td>\n",
       "      <td>264.00</td>\n",
       "      <td>May</td>\n",
       "    </tr>\n",
       "    <tr>\n",
       "      <th>4</th>\n",
       "      <td>OD0005</td>\n",
       "      <td>C005</td>\n",
       "      <td>P0001</td>\n",
       "      <td>2022-11-08</td>\n",
       "      <td>353</td>\n",
       "      <td>0.25</td>\n",
       "      <td>264.75</td>\n",
       "      <td>November</td>\n",
       "    </tr>\n",
       "    <tr>\n",
       "      <th>...</th>\n",
       "      <td>...</td>\n",
       "      <td>...</td>\n",
       "      <td>...</td>\n",
       "      <td>...</td>\n",
       "      <td>...</td>\n",
       "      <td>...</td>\n",
       "      <td>...</td>\n",
       "      <td>...</td>\n",
       "    </tr>\n",
       "    <tr>\n",
       "      <th>3495</th>\n",
       "      <td>OD3496</td>\n",
       "      <td>C081</td>\n",
       "      <td>P3071</td>\n",
       "      <td>2023-01-01</td>\n",
       "      <td>685</td>\n",
       "      <td>0.50</td>\n",
       "      <td>342.50</td>\n",
       "      <td>January</td>\n",
       "    </tr>\n",
       "    <tr>\n",
       "      <th>3496</th>\n",
       "      <td>OD3497</td>\n",
       "      <td>C082</td>\n",
       "      <td>P3071</td>\n",
       "      <td>2022-07-08</td>\n",
       "      <td>707</td>\n",
       "      <td>0.50</td>\n",
       "      <td>353.50</td>\n",
       "      <td>July</td>\n",
       "    </tr>\n",
       "    <tr>\n",
       "      <th>3497</th>\n",
       "      <td>OD3498</td>\n",
       "      <td>C083</td>\n",
       "      <td>P3071</td>\n",
       "      <td>2021-02-06</td>\n",
       "      <td>1819</td>\n",
       "      <td>0.50</td>\n",
       "      <td>909.50</td>\n",
       "      <td>February</td>\n",
       "    </tr>\n",
       "    <tr>\n",
       "      <th>3498</th>\n",
       "      <td>OD3499</td>\n",
       "      <td>C084</td>\n",
       "      <td>P3071</td>\n",
       "      <td>2021-07-18</td>\n",
       "      <td>856</td>\n",
       "      <td>0.50</td>\n",
       "      <td>428.00</td>\n",
       "      <td>July</td>\n",
       "    </tr>\n",
       "    <tr>\n",
       "      <th>3499</th>\n",
       "      <td>OD3500</td>\n",
       "      <td>C085</td>\n",
       "      <td>P3071</td>\n",
       "      <td>2023-03-15</td>\n",
       "      <td>1404</td>\n",
       "      <td>0.50</td>\n",
       "      <td>702.00</td>\n",
       "      <td>March</td>\n",
       "    </tr>\n",
       "  </tbody>\n",
       "</table>\n",
       "<p>3500 rows × 8 columns</p>\n",
       "</div>"
      ],
      "text/plain": [
       "     Order ID Customer ID Product ID       Date  Original Price  Discount%  \\\n",
       "0      OD0001        C001      P0001 2021-05-20             349       0.30   \n",
       "1      OD0002        C002      P0001 2021-01-19             350       0.30   \n",
       "2      OD0003        C003      P0001 2021-10-28             351       0.30   \n",
       "3      OD0004        C004      P0001 2021-05-20             352       0.25   \n",
       "4      OD0005        C005      P0001 2022-11-08             353       0.25   \n",
       "...       ...         ...        ...        ...             ...        ...   \n",
       "3495   OD3496        C081      P3071 2023-01-01             685       0.50   \n",
       "3496   OD3497        C082      P3071 2022-07-08             707       0.50   \n",
       "3497   OD3498        C083      P3071 2021-02-06            1819       0.50   \n",
       "3498   OD3499        C084      P3071 2021-07-18             856       0.50   \n",
       "3499   OD3500        C085      P3071 2023-03-15            1404       0.50   \n",
       "\n",
       "      Total Price     Month  \n",
       "0          244.30       May  \n",
       "1          245.00   January  \n",
       "2          245.70   October  \n",
       "3          264.00       May  \n",
       "4          264.75  November  \n",
       "...           ...       ...  \n",
       "3495       342.50   January  \n",
       "3496       353.50      July  \n",
       "3497       909.50  February  \n",
       "3498       428.00      July  \n",
       "3499       702.00     March  \n",
       "\n",
       "[3500 rows x 8 columns]"
      ]
     },
     "execution_count": 34,
     "metadata": {},
     "output_type": "execute_result"
    }
   ],
   "source": [
    "orders[\"Month\"] = orders[\"Date\"].dt.strftime(\"%B\")\n",
    "orders"
   ]
  },
  {
   "cell_type": "code",
   "execution_count": 35,
   "metadata": {
    "colab": {
     "base_uri": "https://localhost:8080/",
     "height": 457
    },
    "id": "pJHB1sNMO8f5",
    "outputId": "8d9858f9-b90f-4999-868f-e91682eade43"
   },
   "outputs": [
    {
     "data": {
      "text/html": [
       "<div>\n",
       "<style scoped>\n",
       "    .dataframe tbody tr th:only-of-type {\n",
       "        vertical-align: middle;\n",
       "    }\n",
       "\n",
       "    .dataframe tbody tr th {\n",
       "        vertical-align: top;\n",
       "    }\n",
       "\n",
       "    .dataframe thead th {\n",
       "        text-align: right;\n",
       "    }\n",
       "</style>\n",
       "<table border=\"1\" class=\"dataframe\">\n",
       "  <thead>\n",
       "    <tr style=\"text-align: right;\">\n",
       "      <th></th>\n",
       "      <th>Total Price</th>\n",
       "    </tr>\n",
       "    <tr>\n",
       "      <th>Month</th>\n",
       "      <th></th>\n",
       "    </tr>\n",
       "  </thead>\n",
       "  <tbody>\n",
       "    <tr>\n",
       "      <th>April</th>\n",
       "      <td>123333.24</td>\n",
       "    </tr>\n",
       "    <tr>\n",
       "      <th>August</th>\n",
       "      <td>151195.18</td>\n",
       "    </tr>\n",
       "    <tr>\n",
       "      <th>December</th>\n",
       "      <td>149565.59</td>\n",
       "    </tr>\n",
       "    <tr>\n",
       "      <th>February</th>\n",
       "      <td>202941.95</td>\n",
       "    </tr>\n",
       "    <tr>\n",
       "      <th>January</th>\n",
       "      <td>232189.61</td>\n",
       "    </tr>\n",
       "    <tr>\n",
       "      <th>July</th>\n",
       "      <td>137832.60</td>\n",
       "    </tr>\n",
       "    <tr>\n",
       "      <th>June</th>\n",
       "      <td>140366.13</td>\n",
       "    </tr>\n",
       "    <tr>\n",
       "      <th>March</th>\n",
       "      <td>211853.22</td>\n",
       "    </tr>\n",
       "    <tr>\n",
       "      <th>May</th>\n",
       "      <td>156812.99</td>\n",
       "    </tr>\n",
       "    <tr>\n",
       "      <th>November</th>\n",
       "      <td>126132.48</td>\n",
       "    </tr>\n",
       "    <tr>\n",
       "      <th>October</th>\n",
       "      <td>126780.86</td>\n",
       "    </tr>\n",
       "    <tr>\n",
       "      <th>September</th>\n",
       "      <td>132085.83</td>\n",
       "    </tr>\n",
       "  </tbody>\n",
       "</table>\n",
       "</div>"
      ],
      "text/plain": [
       "           Total Price\n",
       "Month                 \n",
       "April        123333.24\n",
       "August       151195.18\n",
       "December     149565.59\n",
       "February     202941.95\n",
       "January      232189.61\n",
       "July         137832.60\n",
       "June         140366.13\n",
       "March        211853.22\n",
       "May          156812.99\n",
       "November     126132.48\n",
       "October      126780.86\n",
       "September    132085.83"
      ]
     },
     "execution_count": 35,
     "metadata": {},
     "output_type": "execute_result"
    }
   ],
   "source": [
    "gb = orders.groupby(\"Month\").agg({\"Total Price\":\"sum\"})\n",
    "gb"
   ]
  },
  {
   "cell_type": "code",
   "execution_count": 37,
   "metadata": {
    "colab": {
     "base_uri": "https://localhost:8080/",
     "height": 500
    },
    "id": "S3qS0pCzQMuv",
    "outputId": "b401f861-9de1-4b74-db47-7e4b52ae0fdb"
   },
   "outputs": [
    {
     "data": {
      "image/png": "[encoded data removed]",
      "text/plain": [
       "<Figure size 640x480 with 1 Axes>"
      ]
     },
     "metadata": {},
     "output_type": "display_data"
    }
   ],
   "source": [
    "#plt.figure(figsize=(12,5))\n",
    "sns.barplot(x = gb.index, y = gb[\"Total Price\"], order =[\"January\",\"February\",\"March\",\"April\",\"May\",\"June\",\"July\",\"August\",\"September\",\"October\",\"November\",\"December\"],hue = gb.index, palette = 'spring')\n",
    "plt.xticks(rotation = 45)\n",
    "plt.show()"
   ]
  },
  {
   "cell_type": "markdown",
   "metadata": {
    "id": "moG_V4FwmwU5"
   },
   "source": [
    "# ***What are the most commonly ordered products?***"
   ]
  },
  {
   "cell_type": "code",
   "execution_count": 39,
   "metadata": {
    "colab": {
     "base_uri": "https://localhost:8080/",
     "height": 914
    },
    "id": "eeh7di3Wetj-",
    "outputId": "4e74cb17-9ad7-4d95-9c27-77b838373e6d"
   },
   "outputs": [
    {
     "name": "stdout",
     "output_type": "stream",
     "text": [
      "Top 10 Most Ordered Products:\n",
      "  Product ID Product Name  order_count\n",
      "0      P3071      Sandals           10\n",
      "1      P3054      Sandals           10\n",
      "2      P0434      Jackets           10\n",
      "3      P2642       Shorts           10\n",
      "4      P3068      Sandals            9\n",
      "5      P1192        Suits            9\n",
      "6      P1523        Jeans            9\n",
      "7      P2934   Winterwear            8\n",
      "8      P0754       Shorts            8\n",
      "9      P0388      Jackets            8\n"
     ]
    },
    {
     "data": {
      "image/png": "[encoded data removed]",
      "text/plain": [
       "<Figure size 1200x600 with 1 Axes>"
      ]
     },
     "metadata": {},
     "output_type": "display_data"
    }
   ],
   "source": [
    "# Count the number of times each product was ordered\n",
    "product_order_counts = orders['Product ID'].value_counts().reset_index()\n",
    "product_order_counts.columns = ['Product ID', 'order_count']\n",
    "\n",
    "# Merge with product details to get product names\n",
    "most_ordered_products = product_order_counts.merge(products, on='Product ID', how='left')\n",
    "\n",
    "# Display the top 10 most ordered products\n",
    "print(\"Top 10 Most Ordered Products:\")\n",
    "print(most_ordered_products[['Product ID', 'Product Name', 'order_count']].head(10))\n",
    "\n",
    "# Plot the top 10 most ordered products\n",
    "plt.figure(figsize=(12, 6))\n",
    "sns.barplot(x=most_ordered_products['Product Name'][:10], y=most_ordered_products['order_count'][:10],hue=most_ordered_products['Product Name'][:10], palette=\"coolwarm\",legend=False)\n",
    "plt.xticks(rotation=45, ha='right')\n",
    "plt.xlabel(\"Product Name\")\n",
    "plt.ylabel(\"Number of Orders\")\n",
    "plt.title(\"Top Most Ordered Products\")\n",
    "plt.show()"
   ]
  },
  {
   "cell_type": "code",
   "execution_count": 40,
   "metadata": {
    "colab": {
     "base_uri": "https://localhost:8080/",
     "height": 206
    },
    "id": "OI9QFejqXzzN",
    "outputId": "c25d8c72-7ebe-4689-e452-83ac33a7f815"
   },
   "outputs": [
    {
     "data": {
      "text/html": [
       "<div>\n",
       "<style scoped>\n",
       "    .dataframe tbody tr th:only-of-type {\n",
       "        vertical-align: middle;\n",
       "    }\n",
       "\n",
       "    .dataframe tbody tr th {\n",
       "        vertical-align: top;\n",
       "    }\n",
       "\n",
       "    .dataframe thead th {\n",
       "        text-align: right;\n",
       "    }\n",
       "</style>\n",
       "<table border=\"1\" class=\"dataframe\">\n",
       "  <thead>\n",
       "    <tr style=\"text-align: right;\">\n",
       "      <th></th>\n",
       "      <th>Total Price</th>\n",
       "    </tr>\n",
       "    <tr>\n",
       "      <th>Category</th>\n",
       "      <th></th>\n",
       "    </tr>\n",
       "  </thead>\n",
       "  <tbody>\n",
       "    <tr>\n",
       "      <th>Beauty</th>\n",
       "      <td>312016.36</td>\n",
       "    </tr>\n",
       "    <tr>\n",
       "      <th>Kids</th>\n",
       "      <td>445682.43</td>\n",
       "    </tr>\n",
       "    <tr>\n",
       "      <th>Men</th>\n",
       "      <td>586456.23</td>\n",
       "    </tr>\n",
       "    <tr>\n",
       "      <th>Women</th>\n",
       "      <td>546934.66</td>\n",
       "    </tr>\n",
       "  </tbody>\n",
       "</table>\n",
       "</div>"
      ],
      "text/plain": [
       "          Total Price\n",
       "Category             \n",
       "Beauty      312016.36\n",
       "Kids        445682.43\n",
       "Men         586456.23\n",
       "Women       546934.66"
      ]
     },
     "execution_count": 40,
     "metadata": {},
     "output_type": "execute_result"
    }
   ],
   "source": [
    "gb1 = df.groupby(\"Category\").agg({\"Total Price\":\"sum\"})\n",
    "gb1"
   ]
  },
  {
   "cell_type": "code",
   "execution_count": 43,
   "metadata": {
    "colab": {
     "base_uri": "https://localhost:8080/",
     "height": 406
    },
    "id": "1zlfR9SOYIlQ",
    "outputId": "3c877042-5989-4fc7-f98e-ded83499e2a5"
   },
   "outputs": [
    {
     "data": {
      "image/png": "[encoded data removed]",
      "text/plain": [
       "<Figure size 640x480 with 1 Axes>"
      ]
     },
     "metadata": {},
     "output_type": "display_data"
    }
   ],
   "source": [
    "plt.pie(gb1[\"Total Price\"], labels = gb1.index, autopct = \"%1.2f%%\")\n",
    "plt.show()"
   ]
  },
  {
   "cell_type": "code",
   "execution_count": 34,
   "metadata": {
    "colab": {
     "base_uri": "https://localhost:8080/"
    },
    "id": "y_XhX1MTYeQU",
    "outputId": "950670d4-968f-41c5-ebf8-eb5ce5a86327"
   },
   "outputs": [
    {
     "data": {
      "text/plain": [
       "np.float64(1891089.6800000002)"
      ]
     },
     "execution_count": 34,
     "metadata": {},
     "output_type": "execute_result"
    }
   ],
   "source": [
    "df[\"Total Price\"].sum()"
   ]
  },
  {
   "cell_type": "code",
   "execution_count": null,
   "metadata": {},
   "outputs": [],
   "source": []
  }
 ],
 "metadata": {
  "colab": {
   "provenance": []
  },
  "kernelspec": {
   "display_name": "Python 3 (ipykernel)",
   "language": "python",
   "name": "python3"
  },
  "language_info": {
   "codemirror_mode": {
    "name": "ipython",
    "version": 3
   },
   "file_extension": ".py",
   "mimetype": "text/x-python",
   "name": "python",
   "nbconvert_exporter": "python",
   "pygments_lexer": "ipython3",
   "version": "3.13.5"
  }
 },
 "nbformat": 4,
 "nbformat_minor": 4
}
